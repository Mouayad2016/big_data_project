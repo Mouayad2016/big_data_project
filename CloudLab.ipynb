{
 "cells": [
  {
   "cell_type": "code",
   "execution_count": 7,
   "id": "fd61ac60",
   "metadata": {},
   "outputs": [
    {
     "name": "stdout",
     "output_type": "stream",
     "text": [
      "Requirement already satisfied: tweepy in c:\\users\\mouay\\appdata\\local\\programs\\python\\python311\\lib\\site-packages (4.13.0)\n",
      "Requirement already satisfied: oauthlib<4,>=3.2.0 in c:\\users\\mouay\\appdata\\local\\programs\\python\\python311\\lib\\site-packages (from tweepy) (3.2.2)\n",
      "Requirement already satisfied: requests<3,>=2.27.0 in c:\\users\\mouay\\appdata\\local\\programs\\python\\python311\\lib\\site-packages (from tweepy) (2.28.1)\n",
      "Requirement already satisfied: requests-oauthlib<2,>=1.2.0 in c:\\users\\mouay\\appdata\\local\\programs\\python\\python311\\lib\\site-packages (from tweepy) (1.3.1)\n",
      "Requirement already satisfied: charset-normalizer<3,>=2 in c:\\users\\mouay\\appdata\\local\\programs\\python\\python311\\lib\\site-packages (from requests<3,>=2.27.0->tweepy) (2.1.1)\n",
      "Requirement already satisfied: idna<4,>=2.5 in c:\\users\\mouay\\appdata\\local\\programs\\python\\python311\\lib\\site-packages (from requests<3,>=2.27.0->tweepy) (3.4)\n",
      "Requirement already satisfied: urllib3<1.27,>=1.21.1 in c:\\users\\mouay\\appdata\\local\\programs\\python\\python311\\lib\\site-packages (from requests<3,>=2.27.0->tweepy) (1.26.13)\n",
      "Requirement already satisfied: certifi>=2017.4.17 in c:\\users\\mouay\\appdata\\local\\programs\\python\\python311\\lib\\site-packages (from requests<3,>=2.27.0->tweepy) (2022.12.7)\n",
      "Note: you may need to restart the kernel to use updated packages.\n"
     ]
    }
   ],
   "source": [
    "pip install tweepy"
   ]
  },
  {
   "cell_type": "code",
   "execution_count": 19,
   "id": "53212048",
   "metadata": {},
   "outputs": [],
   "source": [
    "import tweepy"
   ]
  },
  {
   "cell_type": "code",
   "execution_count": 20,
   "id": "495f51dc",
   "metadata": {},
   "outputs": [
    {
     "ename": "NameError",
     "evalue": "name 'consumer_key' is not defined",
     "output_type": "error",
     "traceback": [
      "\u001b[1;31m---------------------------------------------------------------------------\u001b[0m",
      "\u001b[1;31mNameError\u001b[0m                                 Traceback (most recent call last)",
      "Cell \u001b[1;32mIn[20], line 2\u001b[0m\n\u001b[0;32m      1\u001b[0m \u001b[39mimport\u001b[39;00m \u001b[39mtweepy\u001b[39;00m\n\u001b[1;32m----> 2\u001b[0m auth \u001b[39m=\u001b[39m tweepy\u001b[39m.\u001b[39mOAuth1UserHandler(consumer_key, consumer_secret, access_token, access_token_secret)\n\u001b[0;32m      3\u001b[0m api \u001b[39m=\u001b[39m tweepy\u001b[39m.\u001b[39mAPI(auth)\n\u001b[0;32m      4\u001b[0m public_tweets \u001b[39m=\u001b[39m api\u001b[39m.\u001b[39mhome_timeline()\n",
      "\u001b[1;31mNameError\u001b[0m: name 'consumer_key' is not defined"
     ]
    }
   ],
   "source": [
    "import tweepy\n",
    "auth = tweepy.OAuth1UserHandler(consumer_key, consumer_secret, access_token, access_token_secret)\n",
    "api = tweepy.API(auth)\n",
    "public_tweets = api.home_timeline()\n",
    "for tweet in public_tweets:\n",
    "    print(tweet.text)"
   ]
  },
  {
   "cell_type": "code",
   "execution_count": 21,
   "id": "04442181",
   "metadata": {},
   "outputs": [
    {
     "name": "stdout",
     "output_type": "stream",
     "text": [
      "Collecting snscrape\n",
      "  Using cached snscrape-0.6.1.20230314-py3-none-any.whl (71 kB)\n",
      "Requirement already satisfied: requests[socks] in c:\\users\\mouay\\appdata\\local\\programs\\python\\python311\\lib\\site-packages (from snscrape) (2.28.1)\n",
      "Requirement already satisfied: lxml in c:\\users\\mouay\\appdata\\local\\programs\\python\\python311\\lib\\site-packages (from snscrape) (4.9.2)\n",
      "Collecting beautifulsoup4\n",
      "  Downloading beautifulsoup4-4.11.2-py3-none-any.whl (129 kB)\n",
      "     ---------------------------------------- 0.0/129.4 kB ? eta -:--:--\n",
      "     -------------------------------------- 129.4/129.4 kB 7.4 MB/s eta 0:00:00\n",
      "Requirement already satisfied: filelock in c:\\users\\mouay\\appdata\\local\\programs\\python\\python311\\lib\\site-packages (from snscrape) (3.9.0)\n",
      "Collecting soupsieve>1.2\n",
      "  Downloading soupsieve-2.4-py3-none-any.whl (37 kB)\n",
      "Requirement already satisfied: charset-normalizer<3,>=2 in c:\\users\\mouay\\appdata\\local\\programs\\python\\python311\\lib\\site-packages (from requests[socks]->snscrape) (2.1.1)\n",
      "Requirement already satisfied: idna<4,>=2.5 in c:\\users\\mouay\\appdata\\local\\programs\\python\\python311\\lib\\site-packages (from requests[socks]->snscrape) (3.4)\n",
      "Requirement already satisfied: urllib3<1.27,>=1.21.1 in c:\\users\\mouay\\appdata\\local\\programs\\python\\python311\\lib\\site-packages (from requests[socks]->snscrape) (1.26.13)\n",
      "Requirement already satisfied: certifi>=2017.4.17 in c:\\users\\mouay\\appdata\\local\\programs\\python\\python311\\lib\\site-packages (from requests[socks]->snscrape) (2022.12.7)\n",
      "Collecting PySocks!=1.5.7,>=1.5.6\n",
      "  Downloading PySocks-1.7.1-py3-none-any.whl (16 kB)\n",
      "Installing collected packages: soupsieve, PySocks, beautifulsoup4, snscrape\n",
      "Successfully installed PySocks-1.7.1 beautifulsoup4-4.11.2 snscrape-0.6.1.20230314 soupsieve-2.4\n",
      "Note: you may need to restart the kernel to use updated packages.\n"
     ]
    }
   ],
   "source": [
    "pip install snscrape"
   ]
  },
  {
   "cell_type": "code",
   "execution_count": 32,
   "id": "f76143fa",
   "metadata": {},
   "outputs": [],
   "source": [
    "import snscrape.modules.twitter as sntwitter\n",
    "import pandas as pd"
   ]
  },
  {
   "cell_type": "code",
   "execution_count": 33,
   "id": "453d8c6d",
   "metadata": {},
   "outputs": [
    {
     "name": "stdout",
     "output_type": "stream",
     "text": [
      "{'url': 'https://twitter.com/adrian_horning_/status/1636847100796256260', 'date': datetime.datetime(2023, 3, 17, 21, 48, 54, tzinfo=datetime.timezone.utc), 'rawContent': '@JohnPGavin Thanks dawg 🤙', 'renderedContent': '@JohnPGavin Thanks dawg 🤙', 'id': 1636847100796256260, 'user': User(username='adrian_horning_', id=4520241209, displayname='Adrian | The Web Scraping Guy', rawDescription='Building county web scrapers. Tweeting about how to web scrape. Prev sold https://t.co/v32HDVn6tM. DM or book a call if you’d like a county scraped 👇', renderedDescription='Building county web scrapers. Tweeting about how to web scrape. Prev sold lemondrops.io. DM or book a call if you’d like a county scraped 👇', descriptionLinks=[TextLink(text='lemondrops.io', url='http://lemondrops.io', tcourl='https://t.co/v32HDVn6tM', indices=(74, 97))], verified=False, created=datetime.datetime(2015, 12, 18, 2, 48, 59, tzinfo=datetime.timezone.utc), followersCount=2504, friendsCount=1410, statusesCount=8658, favouritesCount=56731, listedCount=57, mediaCount=575, location='Austin, TX', protected=False, link=TextLink(text='thewebscrapingguy.com', url='https://www.thewebscrapingguy.com/', tcourl='https://t.co/MpGaDIoQK7', indices=(0, 23)), profileImageUrl='https://pbs.twimg.com/profile_images/1413647704161275904/1tTdl4v9_normal.jpg', profileBannerUrl='https://pbs.twimg.com/profile_banners/4520241209/1674235864', label=None), 'replyCount': 0, 'retweetCount': 0, 'likeCount': 1, 'quoteCount': 0, 'conversationId': 1636808214451765249, 'lang': 'en', 'source': '<a href=\"http://twitter.com/download/iphone\" rel=\"nofollow\">Twitter for iPhone</a>', 'sourceUrl': 'http://twitter.com/download/iphone', 'sourceLabel': 'Twitter for iPhone', 'links': None, 'media': None, 'retweetedTweet': None, 'quotedTweet': None, 'inReplyToTweetId': 1636845535695888386, 'inReplyToUser': User(username='JohnPGavin', id=369315927, displayname='John Gavin', rawDescription=None, renderedDescription=None, descriptionLinks=None, verified=None, created=None, followersCount=None, friendsCount=None, statusesCount=None, favouritesCount=None, listedCount=None, mediaCount=None, location=None, protected=None, link=None, profileImageUrl=None, profileBannerUrl=None, label=None), 'mentionedUsers': [User(username='JohnPGavin', id=369315927, displayname='John Gavin', rawDescription=None, renderedDescription=None, descriptionLinks=None, verified=None, created=None, followersCount=None, friendsCount=None, statusesCount=None, favouritesCount=None, listedCount=None, mediaCount=None, location=None, protected=None, link=None, profileImageUrl=None, profileBannerUrl=None, label=None)], 'coordinates': None, 'place': None, 'hashtags': None, 'cashtags': None, 'card': None, 'viewCount': 3, 'vibe': None}\n"
     ]
    }
   ],
   "source": [
    "query = \"web scraping\"\n",
    "for tweet in sntwitter.TwitterSearchScraper(query).get_items():\n",
    "    print(vars(tweet))\n",
    "    break"
   ]
  },
  {
   "cell_type": "code",
   "execution_count": 34,
   "id": "43de4f25",
   "metadata": {},
   "outputs": [],
   "source": [
    "limit = 1000"
   ]
  },
  {
   "cell_type": "code",
   "execution_count": 35,
   "id": "fe755424",
   "metadata": {},
   "outputs": [],
   "source": [
    "tweets = []"
   ]
  },
  {
   "cell_type": "code",
   "execution_count": 36,
   "id": "acd5f0a9",
   "metadata": {},
   "outputs": [
    {
     "name": "stderr",
     "output_type": "stream",
     "text": [
      "C:\\Users\\mouay\\AppData\\Local\\Temp\\ipykernel_6112\\810592807.py:5: DeprecatedFeatureWarning: content is deprecated, use rawContent instead\n",
      "  tweets.append([tweet.date, tweet.user.username, tweet.content])\n"
     ]
    }
   ],
   "source": [
    "for tweet in sntwitter.TwitterSearchScraper(query).get_items():\n",
    "    if len(tweets) == limit:\n",
    "        break\n",
    "    else:\n",
    "            tweets.append([tweet.date, tweet.user.username, tweet.content])"
   ]
  },
  {
   "cell_type": "code",
   "execution_count": 37,
   "id": "ef83077a",
   "metadata": {},
   "outputs": [],
   "source": [
    "df = pd.DataFrame(tweets, columns=['Date', 'User', 'Tweet'])#print(df)"
   ]
  },
  {
   "cell_type": "code",
   "execution_count": 38,
   "id": "d90739df",
   "metadata": {},
   "outputs": [],
   "source": [
    "df.to_csv('scraped-tweets.csv', index=False, encoding='utf-8')"
   ]
  },
  {
   "cell_type": "code",
   "execution_count": 39,
   "id": "65570fb6",
   "metadata": {},
   "outputs": [],
   "source": [
    "Json=df.to_json('scraped-tweets.json', orient='records', lines=True)"
   ]
  },
  {
   "cell_type": "code",
   "execution_count": 40,
   "id": "4a15d884",
   "metadata": {},
   "outputs": [
    {
     "data": {
      "text/html": [
       "<div>\n",
       "<style scoped>\n",
       "    .dataframe tbody tr th:only-of-type {\n",
       "        vertical-align: middle;\n",
       "    }\n",
       "\n",
       "    .dataframe tbody tr th {\n",
       "        vertical-align: top;\n",
       "    }\n",
       "\n",
       "    .dataframe thead th {\n",
       "        text-align: right;\n",
       "    }\n",
       "</style>\n",
       "<table border=\"1\" class=\"dataframe\">\n",
       "  <thead>\n",
       "    <tr style=\"text-align: right;\">\n",
       "      <th></th>\n",
       "      <th>Date</th>\n",
       "      <th>User</th>\n",
       "      <th>Tweet</th>\n",
       "    </tr>\n",
       "  </thead>\n",
       "  <tbody>\n",
       "    <tr>\n",
       "      <th>0</th>\n",
       "      <td>2023-03-17 21:48:54+00:00</td>\n",
       "      <td>adrian_horning_</td>\n",
       "      <td>@JohnPGavin Thanks dawg 🤙</td>\n",
       "    </tr>\n",
       "    <tr>\n",
       "      <th>1</th>\n",
       "      <td>2023-03-17 20:56:24+00:00</td>\n",
       "      <td>adrian_horning_</td>\n",
       "      <td>@JohnPGavin 😆 nice</td>\n",
       "    </tr>\n",
       "    <tr>\n",
       "      <th>2</th>\n",
       "      <td>2023-03-17 20:19:00+00:00</td>\n",
       "      <td>adrian_horning_</td>\n",
       "      <td>🤣 this is gold</td>\n",
       "    </tr>\n",
       "    <tr>\n",
       "      <th>3</th>\n",
       "      <td>2023-03-17 20:18:55+00:00</td>\n",
       "      <td>TottenhamSpur16</td>\n",
       "      <td>Web Scraping 🔥 How to Use Web Scraping for Bus...</td>\n",
       "    </tr>\n",
       "    <tr>\n",
       "      <th>4</th>\n",
       "      <td>2023-03-17 20:15:04+00:00</td>\n",
       "      <td>PY_PlainEnglish</td>\n",
       "      <td>What is Python’s Portia?: https://t.co/cJ6sWMN...</td>\n",
       "    </tr>\n",
       "    <tr>\n",
       "      <th>...</th>\n",
       "      <td>...</td>\n",
       "      <td>...</td>\n",
       "      <td>...</td>\n",
       "    </tr>\n",
       "    <tr>\n",
       "      <th>995</th>\n",
       "      <td>2023-03-09 08:19:42+00:00</td>\n",
       "      <td>DavisKipchirch3</td>\n",
       "      <td>I just realized how important regular expressi...</td>\n",
       "    </tr>\n",
       "    <tr>\n",
       "      <th>996</th>\n",
       "      <td>2023-03-09 08:18:33+00:00</td>\n",
       "      <td>webscraping01</td>\n",
       "      <td>Wedding Vendors Email List Scraping\\nhttps://t...</td>\n",
       "    </tr>\n",
       "    <tr>\n",
       "      <th>997</th>\n",
       "      <td>2023-03-09 08:17:20+00:00</td>\n",
       "      <td>webscraping01</td>\n",
       "      <td>Websites Email Scraping Services\\nhttps://t.co...</td>\n",
       "    </tr>\n",
       "    <tr>\n",
       "      <th>998</th>\n",
       "      <td>2023-03-09 08:16:39+00:00</td>\n",
       "      <td>webscraping01</td>\n",
       "      <td>Events Websites Data Scraping - info@websiteda...</td>\n",
       "    </tr>\n",
       "    <tr>\n",
       "      <th>999</th>\n",
       "      <td>2023-03-09 08:15:39+00:00</td>\n",
       "      <td>webscraping01</td>\n",
       "      <td>MLS Data Scraping Services\\nhttps://t.co/z8G6w...</td>\n",
       "    </tr>\n",
       "  </tbody>\n",
       "</table>\n",
       "<p>1000 rows × 3 columns</p>\n",
       "</div>"
      ],
      "text/plain": [
       "                         Date             User  \\\n",
       "0   2023-03-17 21:48:54+00:00  adrian_horning_   \n",
       "1   2023-03-17 20:56:24+00:00  adrian_horning_   \n",
       "2   2023-03-17 20:19:00+00:00  adrian_horning_   \n",
       "3   2023-03-17 20:18:55+00:00  TottenhamSpur16   \n",
       "4   2023-03-17 20:15:04+00:00  PY_PlainEnglish   \n",
       "..                        ...              ...   \n",
       "995 2023-03-09 08:19:42+00:00  DavisKipchirch3   \n",
       "996 2023-03-09 08:18:33+00:00    webscraping01   \n",
       "997 2023-03-09 08:17:20+00:00    webscraping01   \n",
       "998 2023-03-09 08:16:39+00:00    webscraping01   \n",
       "999 2023-03-09 08:15:39+00:00    webscraping01   \n",
       "\n",
       "                                                 Tweet  \n",
       "0                            @JohnPGavin Thanks dawg 🤙  \n",
       "1                                   @JohnPGavin 😆 nice  \n",
       "2                                       🤣 this is gold  \n",
       "3    Web Scraping 🔥 How to Use Web Scraping for Bus...  \n",
       "4    What is Python’s Portia?: https://t.co/cJ6sWMN...  \n",
       "..                                                 ...  \n",
       "995  I just realized how important regular expressi...  \n",
       "996  Wedding Vendors Email List Scraping\\nhttps://t...  \n",
       "997  Websites Email Scraping Services\\nhttps://t.co...  \n",
       "998  Events Websites Data Scraping - info@websiteda...  \n",
       "999  MLS Data Scraping Services\\nhttps://t.co/z8G6w...  \n",
       "\n",
       "[1000 rows x 3 columns]"
      ]
     },
     "execution_count": 40,
     "metadata": {},
     "output_type": "execute_result"
    }
   ],
   "source": [
    "df"
   ]
  },
  {
   "cell_type": "code",
   "execution_count": 42,
   "id": "35c31796",
   "metadata": {},
   "outputs": [
    {
     "name": "stdout",
     "output_type": "stream",
     "text": [
      "{'url': 'https://twitter.com/PrompterGPT/status/1636849941229326337', 'date': datetime.datetime(2023, 3, 17, 22, 0, 11, tzinfo=datetime.timezone.utc), 'rawContent': 'Draw an object from 3 different angles: front, side, and back. Observe the subtle changes in shape and tone as you switch perspective.\\n\\n #art #prompts #drawingexercise #chatgpt #ai #bot', 'renderedContent': 'Draw an object from 3 different angles: front, side, and back. Observe the subtle changes in shape and tone as you switch perspective.\\n\\n #art #prompts #drawingexercise #chatgpt #ai #bot', 'id': 1636849941229326337, 'user': User(username='PrompterGPT', id=1621593209020289028, displayname='ArtPenPrompts', rawDescription='Bot that tweets writing and drawing prompts twice a day! Get inspired, challenge your imagination, & enhance skills with daily prompts & exercises twice a week.', renderedDescription='Bot that tweets writing and drawing prompts twice a day! Get inspired, challenge your imagination, & enhance skills with daily prompts & exercises twice a week.', descriptionLinks=None, verified=False, created=datetime.datetime(2023, 2, 3, 19, 35, 40, tzinfo=datetime.timezone.utc), followersCount=8, friendsCount=1, statusesCount=490, favouritesCount=98, listedCount=0, mediaCount=0, location='', protected=False, link=None, profileImageUrl='https://pbs.twimg.com/profile_images/1621639844739809280/6YscSn7G_normal.jpg', profileBannerUrl='https://pbs.twimg.com/profile_banners/1621593209020289028/1675465305', label=UserLabel(description='Automated', url=None, badgeUrl='https://pbs.twimg.com/semantic_core_img/1428827730364096519/4ZXpTBhS?format=png&name=orig', longDescription='Automated by @JustynAleluia')), 'replyCount': 0, 'retweetCount': 0, 'likeCount': 0, 'quoteCount': 0, 'conversationId': 1636849941229326337, 'lang': 'en', 'source': '<a href=\"https://twitter.com\" rel=\"nofollow\">ArtPromptBot</a>', 'sourceUrl': 'https://twitter.com', 'sourceLabel': 'ArtPromptBot', 'links': None, 'media': None, 'retweetedTweet': None, 'quotedTweet': None, 'inReplyToTweetId': None, 'inReplyToUser': None, 'mentionedUsers': None, 'coordinates': None, 'place': None, 'hashtags': ['art', 'prompts', 'drawingexercise', 'chatgpt', 'ai', 'bot'], 'cashtags': None, 'card': None, 'viewCount': None, 'vibe': None}\n"
     ]
    }
   ],
   "source": [
    "query = \"ChatGPT\"\n",
    "for tweet in sntwitter.TwitterSearchScraper(query).get_items():\n",
    "    print(vars(tweet))\n",
    "    break"
   ]
  },
  {
   "cell_type": "code",
   "execution_count": 53,
   "id": "4dea4956",
   "metadata": {},
   "outputs": [
    {
     "data": {
      "text/html": [
       "<div>\n",
       "<style scoped>\n",
       "    .dataframe tbody tr th:only-of-type {\n",
       "        vertical-align: middle;\n",
       "    }\n",
       "\n",
       "    .dataframe tbody tr th {\n",
       "        vertical-align: top;\n",
       "    }\n",
       "\n",
       "    .dataframe thead th {\n",
       "        text-align: right;\n",
       "    }\n",
       "</style>\n",
       "<table border=\"1\" class=\"dataframe\">\n",
       "  <thead>\n",
       "    <tr style=\"text-align: right;\">\n",
       "      <th></th>\n",
       "      <th>Date</th>\n",
       "      <th>User</th>\n",
       "      <th>Tweet</th>\n",
       "    </tr>\n",
       "  </thead>\n",
       "  <tbody>\n",
       "    <tr>\n",
       "      <th>0</th>\n",
       "      <td>2023-03-17 21:48:54+00:00</td>\n",
       "      <td>adrian_horning_</td>\n",
       "      <td>@JohnPGavin Thanks dawg 🤙</td>\n",
       "    </tr>\n",
       "    <tr>\n",
       "      <th>1</th>\n",
       "      <td>2023-03-17 20:56:24+00:00</td>\n",
       "      <td>adrian_horning_</td>\n",
       "      <td>@JohnPGavin 😆 nice</td>\n",
       "    </tr>\n",
       "    <tr>\n",
       "      <th>2</th>\n",
       "      <td>2023-03-17 20:19:00+00:00</td>\n",
       "      <td>adrian_horning_</td>\n",
       "      <td>🤣 this is gold</td>\n",
       "    </tr>\n",
       "    <tr>\n",
       "      <th>3</th>\n",
       "      <td>2023-03-17 20:18:55+00:00</td>\n",
       "      <td>TottenhamSpur16</td>\n",
       "      <td>Web Scraping 🔥 How to Use Web Scraping for Bus...</td>\n",
       "    </tr>\n",
       "    <tr>\n",
       "      <th>4</th>\n",
       "      <td>2023-03-17 20:15:04+00:00</td>\n",
       "      <td>PY_PlainEnglish</td>\n",
       "      <td>What is Python’s Portia?: https://t.co/cJ6sWMN...</td>\n",
       "    </tr>\n",
       "    <tr>\n",
       "      <th>...</th>\n",
       "      <td>...</td>\n",
       "      <td>...</td>\n",
       "      <td>...</td>\n",
       "    </tr>\n",
       "    <tr>\n",
       "      <th>995</th>\n",
       "      <td>2023-03-09 08:19:42+00:00</td>\n",
       "      <td>DavisKipchirch3</td>\n",
       "      <td>I just realized how important regular expressi...</td>\n",
       "    </tr>\n",
       "    <tr>\n",
       "      <th>996</th>\n",
       "      <td>2023-03-09 08:18:33+00:00</td>\n",
       "      <td>webscraping01</td>\n",
       "      <td>Wedding Vendors Email List Scraping\\nhttps://t...</td>\n",
       "    </tr>\n",
       "    <tr>\n",
       "      <th>997</th>\n",
       "      <td>2023-03-09 08:17:20+00:00</td>\n",
       "      <td>webscraping01</td>\n",
       "      <td>Websites Email Scraping Services\\nhttps://t.co...</td>\n",
       "    </tr>\n",
       "    <tr>\n",
       "      <th>998</th>\n",
       "      <td>2023-03-09 08:16:39+00:00</td>\n",
       "      <td>webscraping01</td>\n",
       "      <td>Events Websites Data Scraping - info@websiteda...</td>\n",
       "    </tr>\n",
       "    <tr>\n",
       "      <th>999</th>\n",
       "      <td>2023-03-09 08:15:39+00:00</td>\n",
       "      <td>webscraping01</td>\n",
       "      <td>MLS Data Scraping Services\\nhttps://t.co/z8G6w...</td>\n",
       "    </tr>\n",
       "  </tbody>\n",
       "</table>\n",
       "<p>1000 rows × 3 columns</p>\n",
       "</div>"
      ],
      "text/plain": [
       "                         Date             User  \\\n",
       "0   2023-03-17 21:48:54+00:00  adrian_horning_   \n",
       "1   2023-03-17 20:56:24+00:00  adrian_horning_   \n",
       "2   2023-03-17 20:19:00+00:00  adrian_horning_   \n",
       "3   2023-03-17 20:18:55+00:00  TottenhamSpur16   \n",
       "4   2023-03-17 20:15:04+00:00  PY_PlainEnglish   \n",
       "..                        ...              ...   \n",
       "995 2023-03-09 08:19:42+00:00  DavisKipchirch3   \n",
       "996 2023-03-09 08:18:33+00:00    webscraping01   \n",
       "997 2023-03-09 08:17:20+00:00    webscraping01   \n",
       "998 2023-03-09 08:16:39+00:00    webscraping01   \n",
       "999 2023-03-09 08:15:39+00:00    webscraping01   \n",
       "\n",
       "                                                 Tweet  \n",
       "0                            @JohnPGavin Thanks dawg 🤙  \n",
       "1                                   @JohnPGavin 😆 nice  \n",
       "2                                       🤣 this is gold  \n",
       "3    Web Scraping 🔥 How to Use Web Scraping for Bus...  \n",
       "4    What is Python’s Portia?: https://t.co/cJ6sWMN...  \n",
       "..                                                 ...  \n",
       "995  I just realized how important regular expressi...  \n",
       "996  Wedding Vendors Email List Scraping\\nhttps://t...  \n",
       "997  Websites Email Scraping Services\\nhttps://t.co...  \n",
       "998  Events Websites Data Scraping - info@websiteda...  \n",
       "999  MLS Data Scraping Services\\nhttps://t.co/z8G6w...  \n",
       "\n",
       "[1000 rows x 3 columns]"
      ]
     },
     "execution_count": 53,
     "metadata": {},
     "output_type": "execute_result"
    }
   ],
   "source": [
    "df"
   ]
  },
  {
   "cell_type": "code",
   "execution_count": 143,
   "id": "88a64f9f",
   "metadata": {},
   "outputs": [],
   "source": [
    "import nltk\n",
    "\n",
    "from nltk.tokenize import word_tokenize\n",
    "from nltk.corpus import stopwords\n",
    "import re\n",
    "from nltk.stem import PorterStemmer\n",
    "from nltk.stem import WordNetLemmatizer\n",
    "from textblob import TextBlob\n",
    "import matplotlib.pyplot as plt\n",
    "import string\n",
    "from sklearn.feature_extraction.text import CountVectorizer\n",
    "import numpy as np\n",
    "import csv\n"
   ]
  },
  {
   "cell_type": "code",
   "execution_count": 130,
   "id": "d6d6f199",
   "metadata": {},
   "outputs": [
    {
     "name": "stdout",
     "output_type": "stream",
     "text": [
      "Collecting scikit-learn\n",
      "  Downloading scikit_learn-1.2.2-cp311-cp311-win_amd64.whl (8.3 MB)\n",
      "     ---------------------------------------- 0.0/8.3 MB ? eta -:--:--\n",
      "     - -------------------------------------- 0.4/8.3 MB 11.2 MB/s eta 0:00:01\n",
      "     ---- ----------------------------------- 0.9/8.3 MB 11.6 MB/s eta 0:00:01\n",
      "     ------ --------------------------------- 1.4/8.3 MB 11.2 MB/s eta 0:00:01\n",
      "     --------- ------------------------------ 1.9/8.3 MB 11.2 MB/s eta 0:00:01\n",
      "     ----------- ---------------------------- 2.4/8.3 MB 11.0 MB/s eta 0:00:01\n",
      "     -------------- ------------------------- 3.0/8.3 MB 11.2 MB/s eta 0:00:01\n",
      "     ---------------- ----------------------- 3.4/8.3 MB 10.7 MB/s eta 0:00:01\n",
      "     ------------------ --------------------- 3.8/8.3 MB 10.6 MB/s eta 0:00:01\n",
      "     -------------------- ------------------- 4.3/8.3 MB 10.6 MB/s eta 0:00:01\n",
      "     ----------------------- ---------------- 4.9/8.3 MB 10.8 MB/s eta 0:00:01\n",
      "     -------------------------- ------------- 5.4/8.3 MB 10.9 MB/s eta 0:00:01\n",
      "     -------------------------- ------------- 5.5/8.3 MB 10.6 MB/s eta 0:00:01\n",
      "     --------------------------- ------------ 5.7/8.3 MB 9.6 MB/s eta 0:00:01\n",
      "     ------------------------------ --------- 6.2/8.3 MB 9.5 MB/s eta 0:00:01\n",
      "     -------------------------------- ------- 6.6/8.3 MB 9.4 MB/s eta 0:00:01\n",
      "     ---------------------------------- ----- 7.2/8.3 MB 9.7 MB/s eta 0:00:01\n",
      "     ------------------------------------ --- 7.5/8.3 MB 9.6 MB/s eta 0:00:01\n",
      "     ---------------------------------------  8.1/8.3 MB 9.7 MB/s eta 0:00:01\n",
      "     ---------------------------------------  8.3/8.3 MB 9.6 MB/s eta 0:00:01\n",
      "     ---------------------------------------- 8.3/8.3 MB 9.3 MB/s eta 0:00:00\n",
      "Requirement already satisfied: numpy>=1.17.3 in c:\\users\\mouay\\appdata\\local\\programs\\python\\python311\\lib\\site-packages (from scikit-learn) (1.24.1)\n",
      "Requirement already satisfied: scipy>=1.3.2 in c:\\users\\mouay\\appdata\\local\\programs\\python\\python311\\lib\\site-packages (from scikit-learn) (1.9.3)\n",
      "Requirement already satisfied: joblib>=1.1.1 in c:\\users\\mouay\\appdata\\local\\programs\\python\\python311\\lib\\site-packages (from scikit-learn) (1.2.0)\n",
      "Collecting threadpoolctl>=2.0.0\n",
      "  Using cached threadpoolctl-3.1.0-py3-none-any.whl (14 kB)\n",
      "Installing collected packages: threadpoolctl, scikit-learn\n",
      "Successfully installed scikit-learn-1.2.2 threadpoolctl-3.1.0\n",
      "Note: you may need to restart the kernel to use updated packages.\n"
     ]
    }
   ],
   "source": [
    "\n",
    "# You have to install all the impport\n",
    "pip install scikit-learn\n"
   ]
  },
  {
   "cell_type": "code",
   "execution_count": 74,
   "id": "e42a6ae2",
   "metadata": {},
   "outputs": [],
   "source": [
    "def remove_stopword(text):\n",
    "    text_tokens = word_tokenize(text)\n",
    "    tokens = [word for word in text_tokens if not word in set(stopwords.words('english'))]\n",
    "    tokens_text = ' '.join(tokens)\n",
    "    return tokens_text\n",
    "\n",
    "\n",
    "data = remove_stopword(df.to_string())"
   ]
  },
  {
   "cell_type": "code",
   "execution_count": 75,
   "id": "fe2681a3",
   "metadata": {},
   "outputs": [],
   "source": [
    "def lower_case(text):\n",
    "    text_words = word_tokenize(text)\n",
    "    text_words_lower = [x.lower() for x in text_words]\n",
    "    return ' '.join(text_words_lower)"
   ]
  },
  {
   "cell_type": "code",
   "execution_count": 77,
   "id": "38e3a3d1",
   "metadata": {},
   "outputs": [],
   "source": [
    "data = lower_case(data)"
   ]
  },
  {
   "cell_type": "code",
   "execution_count": 82,
   "id": "05b6804e",
   "metadata": {},
   "outputs": [],
   "source": [
    "def clean_data(text):\n",
    "    return ' '.join(re.sub(\"(@[a-zA-Z0-9]+)|([^0-9A-Za-z])|(https://[\\w.]+/[\\w]+)\", \" \", text).split())\n",
    "\n",
    "data = clean_data(data)"
   ]
  },
  {
   "cell_type": "code",
   "execution_count": 83,
   "id": "640edaef",
   "metadata": {},
   "outputs": [],
   "source": [
    "def drop_numbers(list_text):\n",
    "    list_text_new = []\n",
    "    for i in list_text:\n",
    "        if not re.search('\\d', i):\n",
    "            list_text_new.append(i)\n",
    "    return ''.join(list_text_new)\n",
    "\n",
    "\n",
    "data = drop_numbers(data)"
   ]
  },
  {
   "cell_type": "code",
   "execution_count": 86,
   "id": "7a906979",
   "metadata": {},
   "outputs": [],
   "source": [
    "lemmatizer = WordNetLemmatizer()\n",
    "\n",
    "def lemmatise(text):\n",
    "    text_tokens = word_tokenize(text)\n",
    "    text_lemm = [lemmatizer.lemmatize(word) for word in text_tokens]\n",
    "    return ' '.join(text_lemm)\n",
    "\n",
    "a = PorterStemmer()\n",
    "def stem(text):\n",
    "    text_tokens = word_tokenize(text)\n",
    "    text_lemm = [a.stem(word) for word in text_tokens]  \n",
    "    return ' '.join(text_lemm)"
   ]
  },
  {
   "cell_type": "code",
   "execution_count": null,
   "id": "878d3b5b",
   "metadata": {},
   "outputs": [],
   "source": [
    "data =lemmatise(data)\n",
    "data = stem(data)"
   ]
  },
  {
   "cell_type": "code",
   "execution_count": 107,
   "id": "34cb9215",
   "metadata": {},
   "outputs": [
    {
     "name": "stdout",
     "output_type": "stream",
     "text": [
      "0.2253418186231999\n"
     ]
    }
   ],
   "source": [
    "#We pass the string not the actual article object, the article object is just for the text. \n",
    "blob = TextBlob(data) #We create a text blob object from it\n",
    "sentiment = blob.sentiment.polarity #-1 to 1 (-1 is very negative and 1 is very positive)\n",
    "print(sentiment)\n",
    "\n",
    "# get polarity \n",
    "def get_polarity(text):\n",
    "    textblob = TextBlob(str(text))\n",
    "    pol = textblob.sentiment.polarity\n",
    "    if(pol==0):\n",
    "        return \"Neutral\"\n",
    "    elif(pol>0.1 and pol<=1):\n",
    "        return \"Positive\"\n",
    "    elif(pol>-1 and pol<=-0.1):\n",
    "        return \"Negative\""
   ]
  },
  {
   "cell_type": "code",
   "execution_count": 132,
   "id": "c639e23d",
   "metadata": {},
   "outputs": [
    {
     "data": {
      "text/plain": [
       "(array([24750.,     0.,     0.,   730.,     0.,     0.,   137.,     0.,\n",
       "            0.,    63.]),\n",
       " array([0. , 0.3, 0.6, 0.9, 1.2, 1.5, 1.8, 2.1, 2.4, 2.7, 3. ]),\n",
       " <BarContainer object of 10 artists>)"
      ]
     },
     "execution_count": 132,
     "metadata": {},
     "output_type": "execute_result"
    },
    {
     "data": {
      "image/png": "[encoded data removed]",
      "text/plain": [
       "<Figure size 640x480 with 1 Axes>"
      ]
     },
     "metadata": {},
     "output_type": "display_data"
    }
   ],
   "source": [
    "rec=[]\n",
    "#   getting a list of strings\n",
    "res = re.sub('['+string.punctuation+']', '', data).split()\n",
    "\n",
    "# loop throw the list and get plraty for each word \n",
    "for i in res:\n",
    "    s= get_polarity(i)\n",
    "    rec.append(str(s))\n",
    "# plotting the data \n",
    "plt.hist(rec, color = \"red\",\n",
    "        histtype = 'bar', rwidth = 0.5)"
   ]
  },
  {
   "cell_type": "code",
   "execution_count": 133,
   "id": "342917c1",
   "metadata": {},
   "outputs": [],
   "source": [
    "cv = CountVectorizer(stop_words = 'english')\n"
   ]
  },
  {
   "cell_type": "code",
   "execution_count": 134,
   "id": "b0ca84ef",
   "metadata": {},
   "outputs": [],
   "source": [
    "query = res\n",
    "stopwords = ['al']\n",
    "resultwords  = [word for word in query if word.lower() not in stopwords]\n",
    "result = ' '.join(resultwords)\n",
    "res = re.sub('['+string.punctuation+']', '', result).split()\n"
   ]
  },
  {
   "cell_type": "code",
   "execution_count": 135,
   "id": "25b3d4b1",
   "metadata": {},
   "outputs": [],
   "source": [
    "# plotting the result\n",
    "words = cv.fit_transform(res)\n",
    "sum_words = words.sum(axis=0)"
   ]
  },
  {
   "cell_type": "code",
   "execution_count": 139,
   "id": "acc3580d",
   "metadata": {},
   "outputs": [
    {
     "data": {
      "image/png": "[encoded data removed]",
      "text/plain": [
       "<Figure size 1500x600 with 1 Axes>"
      ]
     },
     "metadata": {},
     "output_type": "display_data"
    }
   ],
   "source": [
    "words_freq = [(word, sum_words[0, idx]) for word, idx in cv.vocabulary_.items()]\n",
    "words_freq = sorted(words_freq, key = lambda x: x[1], reverse = True)\n",
    "frequency = pd.DataFrame(words_freq, columns=['word', 'freq'])\n",
    "\n",
    "plt.style.use('fivethirtyeight')\n",
    "color = plt.cm.ocean(np.linspace(0, 1, 20))\n",
    "frequency.head(20).plot(x='word', y='freq', kind='bar', figsize=(15, 6), color = color)\n",
    "plt.title(\"Most Frequently Occuring Words - Top 20\")\n",
    "plt.show()"
   ]
  },
  {
   "cell_type": "code",
   "execution_count": 144,
   "id": "a157ad62",
   "metadata": {},
   "outputs": [],
   "source": [
    "# saving data to csv for later use \n",
    "data = [data]\n",
    "with open('article1.csv', 'w', encoding=\"UTF8\") as file:\n",
    "    writer = csv.writer(file)\n",
    "    writer.writerow(data)"
   ]
  },
  {
   "cell_type": "code",
   "execution_count": 114,
   "id": "abfb64ef",
   "metadata": {},
   "outputs": [],
   "source": [
    "#ANALYSIS#"
   ]
  },
  {
   "cell_type": "code",
   "execution_count": null,
   "id": "b6a1bac4",
   "metadata": {},
   "outputs": [],
   "source": []
  }
 ],
 "metadata": {
  "kernelspec": {
   "display_name": "Python 3 (ipykernel)",
   "language": "python",
   "name": "python3"
  },
  "language_info": {
   "codemirror_mode": {
    "name": "ipython",
    "version": 3
   },
   "file_extension": ".py",
   "mimetype": "text/x-python",
   "name": "python",
   "nbconvert_exporter": "python",
   "pygments_lexer": "ipython3",
   "version": "3.11.0"
  }
 },
 "nbformat": 4,
 "nbformat_minor": 5
}
